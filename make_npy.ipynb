{
 "cells": [
  {
   "cell_type": "code",
   "execution_count": null,
   "id": "6b43f6d5",
   "metadata": {},
   "outputs": [],
   "source": [
    "def get_sample(name):\n",
    "    array = []\n",
    "    for image_name in os.listdir(name):\n",
    "            image = Image.open(name+\"/\"+image_name)\n",
    "            image = image.resize((64, 64))\n",
    "            array.append(np.array(image))\n",
    "    new = np.array(array)\n",
    "    return new\n",
    "\n",
    "name_output = \"Cats2.npy\"\n",
    "name_input = \"KaggleKattenCombi\""
   ]
  },
  {
   "cell_type": "code",
   "execution_count": null,
   "id": "a274f853",
   "metadata": {},
   "outputs": [],
   "source": [
    "a = np.load('Cats1.npy')\n",
    "b = np.load('Cats2.npy')\n",
    "print(a.shape)\n",
    "print(b.shape)\n",
    "f = np.concatenate((a, b), axis=0)\n",
    "np.save('ManyCats.npy', f)"
   ]
  }
 ],
 "metadata": {
  "kernelspec": {
   "display_name": "Python 3",
   "language": "python",
   "name": "python3"
  },
  "language_info": {
   "codemirror_mode": {
    "name": "ipython",
    "version": 3
   },
   "file_extension": ".py",
   "mimetype": "text/x-python",
   "name": "python",
   "nbconvert_exporter": "python",
   "pygments_lexer": "ipython3",
   "version": "3.8.10"
  }
 },
 "nbformat": 4,
 "nbformat_minor": 5
}
