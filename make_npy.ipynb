{
 "cells": [
  {
   "cell_type": "code",
   "execution_count": 1,
   "id": "cb301c86",
   "metadata": {},
   "outputs": [],
   "source": [
    "import numpy as np\n",
    "import pandas as pd\n",
    "import os\n",
    "import random\n",
    "from PIL import Image"
   ]
  },
  {
   "cell_type": "code",
   "execution_count": null,
   "id": "00e7f0cf",
   "metadata": {},
   "outputs": [],
   "source": [
    "def get_samples(name):\n",
    "    datasets_names = sorted(os.listdir(name))\n",
    "    array = []\n",
    "\n",
    "    for folder in datasets_names:\n",
    "        for image_name in os.listdir(name+\"/\"+folder):\n",
    "            image = Image.open(name+\"/\"+folder+ \"/\" + image_name)\n",
    "            image = image.resize((64, 64))\n",
    "            array.append(np.array(image))\n",
    "    new = np.array(array)\n",
    "    return new\n",
    "\n",
    "name_output = \"Cats2.npy\"\n",
    "name_input = \"KaggleKattenCombi\""
   ]
  },
  {
   "cell_type": "code",
   "execution_count": null,
   "id": "cc3b2890",
   "metadata": {},
   "outputs": [],
   "source": [
    "a = np.load('Cats1.npy')\n",
    "b = np.load('Cats2.npy')\n",
    "print(a.shape)\n",
    "print(b.shape)\n",
    "f = np.concatenate((a, b), axis=0)\n",
    "np.save('ManyCats.npy', f)"
   ]
  }
 ],
 "metadata": {
  "kernelspec": {
   "display_name": "Python 3",
   "language": "python",
   "name": "python3"
  },
  "language_info": {
   "codemirror_mode": {
    "name": "ipython",
    "version": 3
   },
   "file_extension": ".py",
   "mimetype": "text/x-python",
   "name": "python",
   "nbconvert_exporter": "python",
   "pygments_lexer": "ipython3",
   "version": "3.8.10"
  }
 },
 "nbformat": 4,
 "nbformat_minor": 5
}
