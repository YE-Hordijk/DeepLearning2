{
 "cells": [
  {
   "cell_type": "code",
   "execution_count": 28,
   "id": "c8fdfe86",
   "metadata": {
    "id": "c8fdfe86"
   },
   "outputs": [],
   "source": [
    "from tensorflow import keras\n",
    "import tensorflow as tf\n",
    "import matplotlib.pyplot as plt\n",
    "import random\n",
    "import numpy as np\n",
    "\n",
    "random.seed(42)\n",
    "#np.random.seed(42)"
   ]
  },
  {
   "cell_type": "code",
   "execution_count": 29,
   "id": "4jsxgjzlKmHz",
   "metadata": {
    "id": "4jsxgjzlKmHz"
   },
   "outputs": [],
   "source": [
    "#tf.random.set_seed(42)"
   ]
  },
  {
   "cell_type": "code",
   "execution_count": 30,
   "id": "a97eb3c9",
   "metadata": {
    "id": "a97eb3c9"
   },
   "outputs": [],
   "source": [
    "initializers = [\"glorot_uniform\", \n",
    "                keras.initializers.RandomNormal(mean=0.0, stddev=0.05), \n",
    "                keras.initializers.RandomUniform(minval=-0.05, maxval=0.05), \n",
    "                keras.initializers.TruncatedNormal(mean=0.0, stddev=0.05),\n",
    "                keras.initializers.Zeros()]\n",
    "initializer = initializers[0]\n",
    "\n",
    "activations = [\"relu\", \"softmax\", \"sigmoid\", \"tanh\", \"linear\"]\n",
    "activation = activations[0]\n",
    "\n",
    "optimizers = [\"sgd\", \"rmsprop\", \"adam\", \"adadelta\"]\n",
    "optimizer = optimizers[0]\n",
    "\n",
    "regularizers = [None, keras.regularizers.L1(l1=0.01), keras.regularizers.L2(l2=0.01)]\n",
    "regularizer = regularizers[0]"
   ]
  },
  {
   "cell_type": "code",
   "execution_count": 31,
   "id": "EgMv5hlxoFMc",
   "metadata": {
    "colab": {
     "base_uri": "https://localhost:8080/",
     "height": 282
    },
    "id": "EgMv5hlxoFMc",
    "outputId": "f69f61cc-5d0b-424d-911b-da461e8410cc"
   },
   "outputs": [
    {
     "name": "stdout",
     "output_type": "stream",
     "text": [
      "[9 0 0 ... 3 0 5]\n"
     ]
    },
    {
     "data": {
      "image/png": "[encoded data removed]",
      "text/plain": [
       "<Figure size 432x288 with 1 Axes>"
      ]
     },
     "metadata": {
      "needs_background": "light"
     },
     "output_type": "display_data"
    }
   ],
   "source": [
    "fashion_mnist = keras.datasets.fashion_mnist\n",
    "(X_train_full, y_train_full), (X_test, y_test) = fashion_mnist.load_data()\n",
    "X_train_full, X_test = X_train_full/255, X_test/255\n",
    "class_names = [\"T-shirt/top\", \"Trouser\", \"Pullover\", \"Dress\", \"Coat\", \"Sandal\", \"Shirt\", \"Sneaker\", \"Bag\", \"Ankle boot\"]\n",
    "plt.imshow(X_train_full[0])\n",
    "print(y_train_full)"
   ]
  },
  {
   "cell_type": "code",
   "execution_count": 32,
   "id": "10bfecc9",
   "metadata": {},
   "outputs": [
    {
     "name": "stdout",
     "output_type": "stream",
     "text": [
      "tf.Tensor([0.68789124], shape=(1,), dtype=float32)\n"
     ]
    }
   ],
   "source": [
    "print(tf.random.uniform([1])) "
   ]
  },
  {
   "cell_type": "code",
   "execution_count": 33,
   "id": "i9L7vvaPopIz",
   "metadata": {
    "colab": {
     "base_uri": "https://localhost:8080/"
    },
    "id": "i9L7vvaPopIz",
    "outputId": "f0bf6db4-1837-4522-f898-d3d02daf61e6",
    "scrolled": true
   },
   "outputs": [
    {
     "name": "stdout",
     "output_type": "stream",
     "text": [
      "Model: \"sequential_3\"\n",
      "_________________________________________________________________\n",
      " Layer (type)                Output Shape              Param #   \n",
      "=================================================================\n",
      " flatten_3 (Flatten)         (None, 784)               0         \n",
      "                                                                 \n",
      " dense_9 (Dense)             (None, 300)               235500    \n",
      "                                                                 \n",
      " dense_10 (Dense)            (None, 100)               30100     \n",
      "                                                                 \n",
      " dense_11 (Dense)            (None, 10)                1010      \n",
      "                                                                 \n",
      "=================================================================\n",
      "Total params: 266,610\n",
      "Trainable params: 266,610\n",
      "Non-trainable params: 0\n",
      "_________________________________________________________________\n"
     ]
    }
   ],
   "source": [
    "model = keras.models.Sequential()\n",
    "model.add(keras.layers.Flatten(input_shape=[28, 28]))\n",
    "model.add(keras.layers.Dense(300, activation=activation, kernel_initializer=initializer, kernel_regularizer=regularizer))\n",
    "model.add(keras.layers.Dense(100, activation=activation, kernel_initializer=initializer, kernel_regularizer=regularizer))\n",
    "model.add(keras.layers.Dense(10, activation=\"softmax\", kernel_initializer=initializer, kernel_regularizer=regularizer))\n",
    "model.summary()"
   ]
  },
  {
   "cell_type": "code",
   "execution_count": 34,
   "id": "pyJaDYCVrSwS",
   "metadata": {
    "id": "pyJaDYCVrSwS"
   },
   "outputs": [],
   "source": [
    "model.compile(\n",
    "    loss=\"sparse_categorical_crossentropy\",\n",
    "    optimizer=optimizer,\n",
    "    metrics=[\"accuracy\"]\n",
    ")"
   ]
  },
  {
   "cell_type": "code",
   "execution_count": 35,
   "id": "NY6ZNJ1ksX-h",
   "metadata": {
    "colab": {
     "base_uri": "https://localhost:8080/"
    },
    "id": "NY6ZNJ1ksX-h",
    "outputId": "80452cc2-f547-4b7a-d026-919ba87a0ee5",
    "scrolled": true
   },
   "outputs": [
    {
     "name": "stdout",
     "output_type": "stream",
     "text": [
      "Epoch 1/4\n",
      "469/469 [==============================] - 3s 5ms/step - loss: 1.0586 - accuracy: 0.6798\n",
      "Epoch 2/4\n",
      "469/469 [==============================] - 2s 4ms/step - loss: 0.6342 - accuracy: 0.7908\n",
      "Epoch 3/4\n",
      "469/469 [==============================] - 2s 4ms/step - loss: 0.5516 - accuracy: 0.8145\n",
      "Epoch 4/4\n",
      "469/469 [==============================] - 2s 4ms/step - loss: 0.5103 - accuracy: 0.8264\n"
     ]
    }
   ],
   "source": [
    "history = model.fit(X_train_full, y_train_full, epochs=4, batch_size=128)"
   ]
  },
  {
   "cell_type": "code",
   "execution_count": 36,
   "id": "JauYVf-btB70",
   "metadata": {
    "colab": {
     "base_uri": "https://localhost:8080/"
    },
    "id": "JauYVf-btB70",
    "outputId": "199e09bb-4461-48fe-b3dd-6a99447a6665"
   },
   "outputs": [
    {
     "name": "stdout",
     "output_type": "stream",
     "text": [
      "313/313 [==============================] - 1s 2ms/step - loss: 0.5286 - accuracy: 0.8119\n"
     ]
    },
    {
     "data": {
      "text/plain": [
       "[0.5286279320716858, 0.8119000196456909]"
      ]
     },
     "execution_count": 36,
     "metadata": {},
     "output_type": "execute_result"
    }
   ],
   "source": [
    "model.evaluate(X_test, y_test)"
   ]
  },
  {
   "cell_type": "code",
   "execution_count": 37,
   "id": "0utMs16-tZRi",
   "metadata": {
    "id": "0utMs16-tZRi"
   },
   "outputs": [],
   "source": [
    "def doedingen(Activation, Initializer, Regularizer, Optimizer):\n",
    "  random.seed(42)\n",
    "  model = keras.models.Sequential()\n",
    "  model.add(keras.layers.Flatten(input_shape=[28, 28]))\n",
    "  model.add(keras.layers.Dense(300, activation=Activation, kernel_initializer=Initializer, kernel_regularizer=Regularizer))\n",
    "  model.add(keras.layers.Dense(100, activation=Activation, kernel_initializer=Initializer, kernel_regularizer=Regularizer))\n",
    "  model.add(keras.layers.Dense(10, activation=\"softmax\", kernel_initializer=Initializer, kernel_regularizer=Regularizer))\n",
    "  model.summary()\n",
    "  model.compile(\n",
    "    loss=\"sparse_categorical_crossentropy\",\n",
    "    optimizer=Optimizer,\n",
    "    metrics=[\"accuracy\"]\n",
    "  )\n",
    "  history = model.fit(X_train_full, y_train_full, epochs=4, batch_size=128)\n",
    "  model.evaluate(X_test, y_test)\n",
    "  return round(model.evaluate(X_test, y_test)[1], 4) \n",
    "\n"
   ]
  },
  {
   "cell_type": "markdown",
   "id": "284e1397",
   "metadata": {},
   "source": [
    "Making a dictionary with the accuracy results of different parameters:"
   ]
  },
  {
   "cell_type": "code",
   "execution_count": null,
   "id": "GYlPUT7-zJ5a",
   "metadata": {
    "colab": {
     "base_uri": "https://localhost:8080/"
    },
    "id": "GYlPUT7-zJ5a",
    "outputId": "114fbf95-aebf-4e40-9446-d8b4e982636b"
   },
   "outputs": [
    {
     "name": "stdout",
     "output_type": "stream",
     "text": [
      "Model: \"sequential_21\"\n",
      "_________________________________________________________________\n",
      " Layer (type)                Output Shape              Param #   \n",
      "=================================================================\n",
      " flatten_21 (Flatten)        (None, 784)               0         \n",
      "                                                                 \n",
      " dense_63 (Dense)            (None, 300)               235500    \n",
      "                                                                 \n",
      " dense_64 (Dense)            (None, 100)               30100     \n",
      "                                                                 \n",
      " dense_65 (Dense)            (None, 10)                1010      \n",
      "                                                                 \n",
      "=================================================================\n",
      "Total params: 266,610\n",
      "Trainable params: 266,610\n",
      "Non-trainable params: 0\n",
      "_________________________________________________________________\n",
      "Epoch 1/4\n",
      "469/469 [==============================] - 3s 6ms/step - loss: 1.0586 - accuracy: 0.6798\n",
      "Epoch 2/4\n",
      "469/469 [==============================] - 3s 6ms/step - loss: 0.6342 - accuracy: 0.7908\n",
      "Epoch 3/4\n",
      "469/469 [==============================] - 2s 4ms/step - loss: 0.5516 - accuracy: 0.8145\n",
      "Epoch 4/4\n",
      "469/469 [==============================] - 2s 4ms/step - loss: 0.5103 - accuracy: 0.8264\n",
      "313/313 [==============================] - 1s 2ms/step - loss: 0.5286 - accuracy: 0.8119\n",
      "313/313 [==============================] - 1s 2ms/step - loss: 0.5286 - accuracy: 0.8119\n",
      "Model: \"sequential_22\"\n",
      "_________________________________________________________________\n",
      " Layer (type)                Output Shape              Param #   \n",
      "=================================================================\n",
      " flatten_22 (Flatten)        (None, 784)               0         \n",
      "                                                                 \n",
      " dense_66 (Dense)            (None, 300)               235500    \n",
      "                                                                 \n",
      " dense_67 (Dense)            (None, 100)               30100     \n",
      "                                                                 \n",
      " dense_68 (Dense)            (None, 10)                1010      \n",
      "                                                                 \n",
      "=================================================================\n",
      "Total params: 266,610\n",
      "Trainable params: 266,610\n",
      "Non-trainable params: 0\n",
      "_________________________________________________________________\n",
      "Epoch 1/4\n",
      "469/469 [==============================] - 2s 4ms/step - loss: 1.5126 - accuracy: 0.5433\n",
      "Epoch 2/4\n",
      "469/469 [==============================] - 2s 5ms/step - loss: 0.8225 - accuracy: 0.7073\n",
      "Epoch 3/4\n",
      "469/469 [==============================] - 3s 7ms/step - loss: 0.6803 - accuracy: 0.7649\n",
      "Epoch 4/4\n",
      "369/469 [======================>.......] - ETA: 0s - loss: 0.6119 - accuracy: 0.7921"
     ]
    }
   ],
   "source": [
    "answers = {}\n",
    "\n",
    "params = [initializers, activations, optimizers, regularizers]\n",
    "paramnames = [\"initializers\", \"activations\", \"optimizers\", \"regularizers\"]\n",
    "for i in range(len(params)):\n",
    "  answers[paramnames[i]] = []\n",
    "  Initializer = params[0][0]\n",
    "  Activation = params[1][0]\n",
    "  Optimizer = params[2][0]\n",
    "  Regularizer = params[3][0]\n",
    "  PARA = [Initializer, Activation, Optimizer, Regularizer]\n",
    "  for j in range(len(params[i])):\n",
    "    PARA[i] = params[i][j]\n",
    "    ans = doedingen(PARA[1], PARA[0], PARA[3], PARA[2])\n",
    "    answers[paramnames[i]].append(str(params[i][j])+\" \"+str(ans))\n"
   ]
  },
  {
   "cell_type": "code",
   "execution_count": 40,
   "id": "JvxD9tfFVbPd",
   "metadata": {
    "colab": {
     "base_uri": "https://localhost:8080/"
    },
    "id": "JvxD9tfFVbPd",
    "outputId": "738c3bc9-8c10-498c-876f-3f07d46602c2"
   },
   "outputs": [
    {
     "name": "stdout",
     "output_type": "stream",
     "text": [
      "initializers\n",
      "\t glorot_uniform 0.8119\n",
      "\t <keras.initializers.initializers_v2.RandomNormal object at 0x7f098c3625b0> 0.782\n",
      "\t <keras.initializers.initializers_v2.RandomUniform object at 0x7f098c3623d0> 0.724\n",
      "\t <keras.initializers.initializers_v2.TruncatedNormal object at 0x7f098c3621c0> 0.7748\n",
      "\t <keras.initializers.initializers_v2.Zeros object at 0x7f098c362130> 0.1\n",
      "activations\n",
      "\t relu 0.8119\n",
      "\t softmax 0.1\n",
      "\t sigmoid 0.629\n",
      "\t tanh 0.8224\n",
      "\t linear 0.8217\n",
      "optimizers\n",
      "\t sgd 0.8119\n",
      "\t rmsprop 0.86\n",
      "\t adam 0.8684\n",
      "\t adadelta 0.6264\n",
      "regularizers\n",
      "\t None 0.8119\n",
      "\t <keras.regularizers.L1 object at 0x7f098c52ecd0> 0.4767\n",
      "\t <keras.regularizers.L2 object at 0x7f098c4f33a0> 0.7978\n"
     ]
    }
   ],
   "source": [
    "for i in answers:\n",
    "    print(i)\n",
    "    for j in answers[i]:\n",
    "      print(\"\\t\", j)"
   ]
  },
  {
   "cell_type": "code",
   "execution_count": null,
   "id": "79b55526",
   "metadata": {},
   "outputs": [],
   "source": []
  }
 ],
 "metadata": {
  "colab": {
   "provenance": []
  },
  "kernelspec": {
   "display_name": "Python 3",
   "language": "python",
   "name": "python3"
  },
  "language_info": {
   "codemirror_mode": {
    "name": "ipython",
    "version": 3
   },
   "file_extension": ".py",
   "mimetype": "text/x-python",
   "name": "python",
   "nbconvert_exporter": "python",
   "pygments_lexer": "ipython3",
   "version": "3.8.10"
  }
 },
 "nbformat": 4,
 "nbformat_minor": 5
}
