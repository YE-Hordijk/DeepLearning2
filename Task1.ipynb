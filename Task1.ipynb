{
  "cells": [
    {
      "cell_type": "code",
      "execution_count": 2,
      "id": "c8fdfe86",
      "metadata": {
        "id": "c8fdfe86"
      },
      "outputs": [],
      "source": [
        "from tensorflow import keras\n",
        "import tensorflow as tf\n",
        "import matplotlib.pyplot as plt\n",
        "import random\n"
      ]
    },
    {
      "cell_type": "code",
      "source": [
        "tf.random.set_seed(42)\n"
      ],
      "metadata": {
        "id": "4jsxgjzlKmHz"
      },
      "id": "4jsxgjzlKmHz",
      "execution_count": 3,
      "outputs": []
    },
    {
      "cell_type": "code",
      "execution_count": 4,
      "id": "a97eb3c9",
      "metadata": {
        "id": "a97eb3c9"
      },
      "outputs": [],
      "source": [
        "initializers = [\"glorot_uniform\", \n",
        "                keras.initializers.RandomNormal(mean=0.0, stddev=0.05), \n",
        "                keras.initializers.RandomUniform(minval=-0.05, maxval=0.05), \n",
        "                keras.initializers.TruncatedNormal(mean=0.0, stddev=0.05),\n",
        "                keras.initializers.Zeros()]\n",
        "initializer = initializers[0]\n",
        "\n",
        "activations = [\"relu\", \"softmax\", \"sigmoid\", \"tanh\", \"linear\"]\n",
        "activation = activations[0]\n",
        "\n",
        "optimizers = [\"sgd\", \"rmsprop\", \"adam\", \"adadelta\"]\n",
        "optimizer = optimizers[0]\n",
        "\n",
        "regularizers = [None, keras.regularizers.L1(l1=0.01), keras.regularizers.L2(l2=0.01)]\n",
        "regularizer = regularizers[0]"
      ]
    },
    {
      "cell_type": "code",
      "source": [
        "fashion_mnist = keras.datasets.fashion_mnist\n",
        "(X_train_full, y_train_full), (X_test, y_test) = fashion_mnist.load_data()\n",
        "X_train_full, X_test = X_train_full/255, X_test/255\n",
        "class_names = [\"T-shirt/top\", \"Trouser\", \"Pullover\", \"Dress\", \"Coat\", \"Sandal\", \"Shirt\", \"Sneaker\", \"Bag\", \"Ankle boot\"]\n",
        "plt.imshow(X_train_full[0])\n",
        "print(y_train_full)"
      ],
      "metadata": {
        "colab": {
          "base_uri": "https://localhost:8080/",
          "height": 282
        },
        "id": "EgMv5hlxoFMc",
        "outputId": "f69f61cc-5d0b-424d-911b-da461e8410cc"
      },
      "id": "EgMv5hlxoFMc",
      "execution_count": 5,
      "outputs": [
        {
          "output_type": "stream",
          "name": "stdout",
          "text": [
            "[9 0 0 ... 3 0 5]\n"
          ]
        },
        {
          "output_type": "display_data",
          "data": {
            "text/plain": [
              "<Figure size 432x288 with 1 Axes>"
            ],
            "image/png": "[encoded data removed]"
          },
          "metadata": {
            "needs_background": "light"
          }
        }
      ]
    },
    {
      "cell_type": "code",
      "source": [
        "model = keras.models.Sequential()\n",
        "model.add(keras.layers.Flatten(input_shape=[28, 28]))\n",
        "model.add(keras.layers.Dense(300, activation=activation, kernel_initializer=initializer, kernel_regularizer=regularizer))\n",
        "model.add(keras.layers.Dense(100, activation=activation, kernel_initializer=initializer, kernel_regularizer=regularizer))\n",
        "model.add(keras.layers.Dense(10, activation=\"softmax\", kernel_initializer=initializer, kernel_regularizer=regularizer))\n",
        "model.summary()"
      ],
      "metadata": {
        "colab": {
          "base_uri": "https://localhost:8080/"
        },
        "id": "i9L7vvaPopIz",
        "outputId": "f0bf6db4-1837-4522-f898-d3d02daf61e6"
      },
      "id": "i9L7vvaPopIz",
      "execution_count": 6,
      "outputs": [
        {
          "output_type": "stream",
          "name": "stdout",
          "text": [
            "Model: \"sequential\"\n",
            "_________________________________________________________________\n",
            " Layer (type)                Output Shape              Param #   \n",
            "=================================================================\n",
            " flatten (Flatten)           (None, 784)               0         \n",
            "                                                                 \n",
            " dense (Dense)               (None, 300)               235500    \n",
            "                                                                 \n",
            " dense_1 (Dense)             (None, 100)               30100     \n",
            "                                                                 \n",
            " dense_2 (Dense)             (None, 10)                1010      \n",
            "                                                                 \n",
            "=================================================================\n",
            "Total params: 266,610\n",
            "Trainable params: 266,610\n",
            "Non-trainable params: 0\n",
            "_________________________________________________________________\n"
          ]
        }
      ]
    },
    {
      "cell_type": "code",
      "source": [
        "model.compile(\n",
        "    loss=\"sparse_categorical_crossentropy\",\n",
        "    optimizer=optimizer,\n",
        "    metrics=[\"accuracy\"]\n",
        ")"
      ],
      "metadata": {
        "id": "pyJaDYCVrSwS"
      },
      "id": "pyJaDYCVrSwS",
      "execution_count": 7,
      "outputs": []
    },
    {
      "cell_type": "code",
      "source": [
        "history = model.fit(X_train_full, y_train_full, epochs=4, batch_size=128)"
      ],
      "metadata": {
        "colab": {
          "base_uri": "https://localhost:8080/"
        },
        "id": "NY6ZNJ1ksX-h",
        "outputId": "80452cc2-f547-4b7a-d026-919ba87a0ee5"
      },
      "id": "NY6ZNJ1ksX-h",
      "execution_count": 8,
      "outputs": [
        {
          "output_type": "stream",
          "name": "stdout",
          "text": [
            "Epoch 1/4\n",
            "469/469 [==============================] - 4s 7ms/step - loss: 1.0654 - accuracy: 0.6801\n",
            "Epoch 2/4\n",
            "469/469 [==============================] - 3s 7ms/step - loss: 0.6246 - accuracy: 0.7941\n",
            "Epoch 3/4\n",
            "469/469 [==============================] - 3s 7ms/step - loss: 0.5426 - accuracy: 0.8188\n",
            "Epoch 4/4\n",
            "469/469 [==============================] - 3s 7ms/step - loss: 0.5023 - accuracy: 0.8305\n"
          ]
        }
      ]
    },
    {
      "cell_type": "code",
      "source": [
        "model.evaluate(X_test, y_test)"
      ],
      "metadata": {
        "colab": {
          "base_uri": "https://localhost:8080/"
        },
        "id": "JauYVf-btB70",
        "outputId": "199e09bb-4461-48fe-b3dd-6a99447a6665"
      },
      "id": "JauYVf-btB70",
      "execution_count": 13,
      "outputs": [
        {
          "output_type": "stream",
          "name": "stdout",
          "text": [
            "313/313 [==============================] - 1s 4ms/step - loss: 0.5201 - accuracy: 0.8178\n"
          ]
        },
        {
          "output_type": "execute_result",
          "data": {
            "text/plain": [
              "[0.5200909376144409, 0.817799985408783]"
            ]
          },
          "metadata": {},
          "execution_count": 13
        }
      ]
    },
    {
      "cell_type": "code",
      "source": [
        "def doedingen(Activation, Initializer, Regularizer, Optimizer):\n",
        "  model = keras.models.Sequential()\n",
        "  model.add(keras.layers.Flatten(input_shape=[28, 28]))\n",
        "  model.add(keras.layers.Dense(300, activation=Activation, kernel_initializer=Initializer, kernel_regularizer=Regularizer))\n",
        "  model.add(keras.layers.Dense(100, activation=Activation, kernel_initializer=Initializer, kernel_regularizer=Regularizer))\n",
        "  model.add(keras.layers.Dense(10, activation=\"softmax\", kernel_initializer=Initializer, kernel_regularizer=Regularizer))\n",
        "  model.summary()\n",
        "  model.compile(\n",
        "    loss=\"sparse_categorical_crossentropy\",\n",
        "    optimizer=Optimizer,\n",
        "    metrics=[\"accuracy\"]\n",
        "  )\n",
        "  history = model.fit(X_train_full, y_train_full, epochs=4, batch_size=128)\n",
        "  model.evaluate(X_test, y_test)\n",
        "  return round(model.evaluate(X_test, y_test)[1], 4) \n",
        "\n"
      ],
      "metadata": {
        "id": "0utMs16-tZRi"
      },
      "id": "0utMs16-tZRi",
      "execution_count": 10,
      "outputs": []
    },
    {
      "cell_type": "code",
      "source": [
        "answers = {}\n",
        "\n",
        "params = [initializers, activations, optimizers, regularizers]\n",
        "paramnames = [\"initializers\", \"activations\", \"optimizers\", \"regularizers\"]\n",
        "for i in range(len(params)):\n",
        "  answers[paramnames[i]] = []\n",
        "  Initializer = params[0][0]\n",
        "  Activation = params[1][0]\n",
        "  Optimizer = params[2][0]\n",
        "  Regularizer = params[3][0]\n",
        "  PARA = [Initializer, Activation, Optimizer, Regularizer]\n",
        "\n",
        "  print(paramnames[i]) #print param name\n",
        "  for j in range(len(params[i])):\n",
        "    \n",
        "    PARA[i] = params[i][j]\n",
        "    print(\"\\t\",params[i][j], end=\"\") #print parameter\n",
        "    print(\"PARA: \",PARA)\n",
        "    #print(params[i][j])\n",
        "    #ans = doedingen(PARA[1], PARA[0], PARA[3], PARA[2])\n",
        "    ans = 0\n",
        "    #print(\"\\n\\nJE MOEDER: \",str(params[i][j]), ans)\n",
        "    #answers[paramnames[i]].append(ans)\n",
        "    answers[paramnames[i]].append(str(params[i][j])+\" \"+str(ans))\n",
        "\n",
        "print(\"*****************************************\")\n",
        "for i in answers:\n",
        "    print(i, answers[i])\n",
        "print(\"*****************************************\")"
      ],
      "metadata": {
        "id": "GYlPUT7-zJ5a",
        "outputId": "114fbf95-aebf-4e40-9446-d8b4e982636b",
        "colab": {
          "base_uri": "https://localhost:8080/"
        }
      },
      "id": "GYlPUT7-zJ5a",
      "execution_count": 17,
      "outputs": [
        {
          "output_type": "stream",
          "name": "stdout",
          "text": [
            "initializers\n",
            "\t glorot_uniformPARA:  ['glorot_uniform', 'relu', 'sgd', None]\n",
            "\t <keras.initializers.initializers_v2.RandomNormal object at 0x7f9c5e0aa510>PARA:  [<keras.initializers.initializers_v2.RandomNormal object at 0x7f9c5e0aa510>, 'relu', 'sgd', None]\n",
            "\t <keras.initializers.initializers_v2.RandomUniform object at 0x7f9c5e0aa590>PARA:  [<keras.initializers.initializers_v2.RandomUniform object at 0x7f9c5e0aa590>, 'relu', 'sgd', None]\n",
            "\t <keras.initializers.initializers_v2.TruncatedNormal object at 0x7f9c5e0aa610>PARA:  [<keras.initializers.initializers_v2.TruncatedNormal object at 0x7f9c5e0aa610>, 'relu', 'sgd', None]\n",
            "\t <keras.initializers.initializers_v2.Zeros object at 0x7f9c5e0aa690>PARA:  [<keras.initializers.initializers_v2.Zeros object at 0x7f9c5e0aa690>, 'relu', 'sgd', None]\n",
            "activations\n",
            "\t reluPARA:  ['glorot_uniform', 'relu', 'sgd', None]\n",
            "\t softmaxPARA:  ['glorot_uniform', 'softmax', 'sgd', None]\n",
            "\t sigmoidPARA:  ['glorot_uniform', 'sigmoid', 'sgd', None]\n",
            "\t tanhPARA:  ['glorot_uniform', 'tanh', 'sgd', None]\n",
            "\t linearPARA:  ['glorot_uniform', 'linear', 'sgd', None]\n",
            "optimizers\n",
            "\t sgdPARA:  ['glorot_uniform', 'relu', 'sgd', None]\n",
            "\t rmspropPARA:  ['glorot_uniform', 'relu', 'rmsprop', None]\n",
            "\t adamPARA:  ['glorot_uniform', 'relu', 'adam', None]\n",
            "\t adadeltaPARA:  ['glorot_uniform', 'relu', 'adadelta', None]\n",
            "regularizers\n",
            "\t NonePARA:  ['glorot_uniform', 'relu', 'sgd', None]\n",
            "\t <keras.regularizers.L1 object at 0x7f9c5e0aa6d0>PARA:  ['glorot_uniform', 'relu', 'sgd', <keras.regularizers.L1 object at 0x7f9c5e0aa6d0>]\n",
            "\t <keras.regularizers.L2 object at 0x7f9c5e0aa790>PARA:  ['glorot_uniform', 'relu', 'sgd', <keras.regularizers.L2 object at 0x7f9c5e0aa790>]\n",
            "*****************************************\n",
            "initializers ['glorot_uniform 0', '<keras.initializers.initializers_v2.RandomNormal object at 0x7f9c5e0aa510> 0', '<keras.initializers.initializers_v2.RandomUniform object at 0x7f9c5e0aa590> 0', '<keras.initializers.initializers_v2.TruncatedNormal object at 0x7f9c5e0aa610> 0', '<keras.initializers.initializers_v2.Zeros object at 0x7f9c5e0aa690> 0']\n",
            "activations ['relu 0', 'softmax 0', 'sigmoid 0', 'tanh 0', 'linear 0']\n",
            "optimizers ['sgd 0', 'rmsprop 0', 'adam 0', 'adadelta 0']\n",
            "regularizers ['None 0', '<keras.regularizers.L1 object at 0x7f9c5e0aa6d0> 0', '<keras.regularizers.L2 object at 0x7f9c5e0aa790> 0']\n",
            "*****************************************\n"
          ]
        }
      ]
    },
    {
      "cell_type": "code",
      "source": [
        "for i in answers:\n",
        "    print(i)\n",
        "    for j in answers[i]:\n",
        "      print(\"\\t\", j)"
      ],
      "metadata": {
        "id": "JvxD9tfFVbPd",
        "outputId": "738c3bc9-8c10-498c-876f-3f07d46602c2",
        "colab": {
          "base_uri": "https://localhost:8080/"
        }
      },
      "id": "JvxD9tfFVbPd",
      "execution_count": 12,
      "outputs": [
        {
          "output_type": "stream",
          "name": "stdout",
          "text": [
            "initializers\n",
            "\t glorot_uniform 0\n",
            "\t <keras.initializers.initializers_v2.RandomNormal object at 0x7f9c5e0aa510> 0\n",
            "\t <keras.initializers.initializers_v2.RandomUniform object at 0x7f9c5e0aa590> 0\n",
            "\t <keras.initializers.initializers_v2.TruncatedNormal object at 0x7f9c5e0aa610> 0\n",
            "\t <keras.initializers.initializers_v2.Zeros object at 0x7f9c5e0aa690> 0\n",
            "activations\n",
            "\t relu 0\n",
            "\t softmax 0\n",
            "\t sigmoid 0\n",
            "\t tanh 0\n",
            "\t linear 0\n",
            "optimizers\n",
            "\t sgd 0\n",
            "\t rmsprop 0\n",
            "\t adam 0\n",
            "\t adadelta 0\n",
            "regularizers\n",
            "\t None 0\n",
            "\t <keras.regularizers.L1 object at 0x7f9c5e0aa6d0> 0\n",
            "\t <keras.regularizers.L2 object at 0x7f9c5e0aa790> 0\n"
          ]
        }
      ]
    }
  ],
  "metadata": {
    "kernelspec": {
      "display_name": "Python 3",
      "language": "python",
      "name": "python3"
    },
    "language_info": {
      "codemirror_mode": {
        "name": "ipython",
        "version": 3
      },
      "file_extension": ".py",
      "mimetype": "text/x-python",
      "name": "python",
      "nbconvert_exporter": "python",
      "pygments_lexer": "ipython3",
      "version": "3.8.10"
    },
    "colab": {
      "provenance": []
    }
  },
  "nbformat": 4,
  "nbformat_minor": 5
}