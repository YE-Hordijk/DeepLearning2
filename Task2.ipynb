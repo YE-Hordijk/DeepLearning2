{
 "cells": [
  {
   "cell_type": "code",
   "execution_count": null,
   "metadata": {},
   "outputs": [],
   "source": [
    "import tensorflow as tf\n",
    "from tensorflow import keras\n",
    "import numpy as np\n",
    "import matplotlib.pyplot as plt"
   ]
  },
  {
   "cell_type": "code",
   "execution_count": null,
   "metadata": {},
   "outputs": [],
   "source": [
    "images = np.load(\"images.npy\").reshape(18000, 150*150)\n",
    "labels = np.load(\"labels.npy\")\n",
    "tot = np.append(images, labels, axis=1)\n",
    "tot = tot.astype(\"float32\")\n",
    "np.random.shuffle(tot)\n",
    "images, labels = tot[:,:22500].reshape(18000, 150, 150), tot[:,22500:]\n",
    "images = images/255\n",
    "labels = labels[:,0] + labels[:,1]/60\n",
    "trainx, trainy = images[:int(18000*0.8)], labels[:int(18000*0.8)]\n",
    "testx, testy = images[int(18000*0.8):], labels[int(18000*0.8):]"
   ]
  },
  {
   "cell_type": "code",
   "execution_count": null,
   "metadata": {},
   "outputs": [],
   "source": [
    "model = keras.models.Sequential()\n",
    "# model.add(keras.layers.Conv2D(1, (5, 5), strides=(1, 1), activation=\"relu\", input_shape=(150, 150, 1)))\n",
    "model.add(keras.layers.Flatten(input_shape=(150, 150)))\n",
    "model.add(keras.layers.Dense(300, activation=\"relu\"))\n",
    "model.add(keras.layers.Dense(50, activation=\"relu\"))\n",
    "model.add(keras.layers.Dense(1, activation=\"relu\"))\n",
    "model.summary()\n",
    "\n",
    "model.compile(\n",
    "    loss=\"mean_squared_error\",\n",
    "    optimizer=\"Adam\",\n",
    "    metrics=[keras.metrics.MeanSquaredError()]\n",
    ")"
   ]
  },
  {
   "cell_type": "code",
   "execution_count": null,
   "metadata": {},
   "outputs": [],
   "source": [
    "history = model.fit(trainx, trainy, epochs=1)\n",
    "model.save(\"task2model\")"
   ]
  },
  {
   "cell_type": "code",
   "execution_count": null,
   "metadata": {},
   "outputs": [],
   "source": [
    "model = keras.models.load_model(\"./task2model\")\n",
    "print(model.get_weights())\n",
    "predictions = model.predict(testx[:100])\n",
    "print(predictions)\n",
    "for i in range(100):\n",
    "    print(predictions[i])\n",
    "    print(labels[i])"
   ]
  }
 ],
 "metadata": {
  "language_info": {
   "codemirror_mode": {
    "name": "ipython",
    "version": 3
   },
   "file_extension": ".py",
   "mimetype": "text/x-python",
   "name": "python",
   "nbconvert_exporter": "python",
   "pygments_lexer": "ipython3",
   "version": 3
  },
  "orig_nbformat": 2
 },
 "nbformat": 4,
 "nbformat_minor": 2
}